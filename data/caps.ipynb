{
 "cells": [
  {
   "cell_type": "code",
   "execution_count": 31,
   "metadata": {},
   "outputs": [],
   "source": [
    "import pandas as pd\n",
    "import matplotlib.pyplot as plt"
   ]
  },
  {
   "cell_type": "code",
   "execution_count": 47,
   "metadata": {},
   "outputs": [
    {
     "data": {
      "text/html": [
       "<div>\n",
       "<style scoped>\n",
       "    .dataframe tbody tr th:only-of-type {\n",
       "        vertical-align: middle;\n",
       "    }\n",
       "\n",
       "    .dataframe tbody tr th {\n",
       "        vertical-align: top;\n",
       "    }\n",
       "\n",
       "    .dataframe thead th {\n",
       "        text-align: right;\n",
       "    }\n",
       "</style>\n",
       "<table border=\"1\" class=\"dataframe\">\n",
       "  <thead>\n",
       "    <tr style=\"text-align: right;\">\n",
       "      <th></th>\n",
       "      <th>data</th>\n",
       "      <th>setmana_epidemiologica</th>\n",
       "      <th>any</th>\n",
       "      <th>codi_regio</th>\n",
       "      <th>nom_regio</th>\n",
       "      <th>codi_ambit</th>\n",
       "      <th>nom_ambit</th>\n",
       "      <th>codi_abs</th>\n",
       "      <th>nom_abs</th>\n",
       "      <th>diagnostic</th>\n",
       "      <th>sexe</th>\n",
       "      <th>grup_edat</th>\n",
       "      <th>index_socioeconomic</th>\n",
       "      <th>casos</th>\n",
       "      <th>poblacio</th>\n",
       "    </tr>\n",
       "  </thead>\n",
       "  <tbody>\n",
       "    <tr>\n",
       "      <th>0</th>\n",
       "      <td>01/10/2024</td>\n",
       "      <td>40</td>\n",
       "      <td>2024</td>\n",
       "      <td>61</td>\n",
       "      <td>Lleida</td>\n",
       "      <td>61</td>\n",
       "      <td>Lleida</td>\n",
       "      <td>329</td>\n",
       "      <td>Lleida rural - 2 Sud</td>\n",
       "      <td>Altres IRA</td>\n",
       "      <td>Dona</td>\n",
       "      <td>75 a 79</td>\n",
       "      <td>3</td>\n",
       "      <td>1</td>\n",
       "      <td>170</td>\n",
       "    </tr>\n",
       "    <tr>\n",
       "      <th>1</th>\n",
       "      <td>01/10/2024</td>\n",
       "      <td>40</td>\n",
       "      <td>2024</td>\n",
       "      <td>64</td>\n",
       "      <td>Girona</td>\n",
       "      <td>64</td>\n",
       "      <td>Girona</td>\n",
       "      <td>267</td>\n",
       "      <td>Vilafant</td>\n",
       "      <td>Altres IRA</td>\n",
       "      <td>Home</td>\n",
       "      <td>3 i 4</td>\n",
       "      <td>3</td>\n",
       "      <td>1</td>\n",
       "      <td>130</td>\n",
       "    </tr>\n",
       "    <tr>\n",
       "      <th>2</th>\n",
       "      <td>01/10/2024</td>\n",
       "      <td>40</td>\n",
       "      <td>2024</td>\n",
       "      <td>67</td>\n",
       "      <td>Catalunya Central</td>\n",
       "      <td>67</td>\n",
       "      <td>Catalunya Central</td>\n",
       "      <td>146</td>\n",
       "      <td>Manresa - 2</td>\n",
       "      <td>Bronquiolitis</td>\n",
       "      <td>Dona</td>\n",
       "      <td>0</td>\n",
       "      <td>3</td>\n",
       "      <td>1</td>\n",
       "      <td>82</td>\n",
       "    </tr>\n",
       "    <tr>\n",
       "      <th>3</th>\n",
       "      <td>01/10/2024</td>\n",
       "      <td>40</td>\n",
       "      <td>2024</td>\n",
       "      <td>75</td>\n",
       "      <td>Barcelona Metropolitana Sud</td>\n",
       "      <td>75</td>\n",
       "      <td>Barcelona Metropolitana Sud</td>\n",
       "      <td>203</td>\n",
       "      <td>Sant Boi de Llobregat - 2</td>\n",
       "      <td>Altres IRA</td>\n",
       "      <td>Home</td>\n",
       "      <td>0</td>\n",
       "      <td>3</td>\n",
       "      <td>1</td>\n",
       "      <td>62</td>\n",
       "    </tr>\n",
       "    <tr>\n",
       "      <th>4</th>\n",
       "      <td>01/10/2024</td>\n",
       "      <td>40</td>\n",
       "      <td>2024</td>\n",
       "      <td>75</td>\n",
       "      <td>Barcelona Metropolitana Sud</td>\n",
       "      <td>75</td>\n",
       "      <td>Barcelona Metropolitana Sud</td>\n",
       "      <td>295</td>\n",
       "      <td>L'Hospitalet de Llobregat - 08 Florida Sud</td>\n",
       "      <td>Faringoamigdalitis</td>\n",
       "      <td>Dona</td>\n",
       "      <td>5 a 9</td>\n",
       "      <td>4</td>\n",
       "      <td>2</td>\n",
       "      <td>546</td>\n",
       "    </tr>\n",
       "  </tbody>\n",
       "</table>\n",
       "</div>"
      ],
      "text/plain": [
       "         data  setmana_epidemiologica   any  codi_regio  \\\n",
       "0  01/10/2024                      40  2024          61   \n",
       "1  01/10/2024                      40  2024          64   \n",
       "2  01/10/2024                      40  2024          67   \n",
       "3  01/10/2024                      40  2024          75   \n",
       "4  01/10/2024                      40  2024          75   \n",
       "\n",
       "                     nom_regio  codi_ambit                    nom_ambit  \\\n",
       "0                       Lleida          61                       Lleida   \n",
       "1                       Girona          64                       Girona   \n",
       "2            Catalunya Central          67            Catalunya Central   \n",
       "3  Barcelona Metropolitana Sud          75  Barcelona Metropolitana Sud   \n",
       "4  Barcelona Metropolitana Sud          75  Barcelona Metropolitana Sud   \n",
       "\n",
       "   codi_abs                                     nom_abs          diagnostic  \\\n",
       "0       329                        Lleida rural - 2 Sud          Altres IRA   \n",
       "1       267                                    Vilafant          Altres IRA   \n",
       "2       146                                 Manresa - 2       Bronquiolitis   \n",
       "3       203                   Sant Boi de Llobregat - 2          Altres IRA   \n",
       "4       295  L'Hospitalet de Llobregat - 08 Florida Sud  Faringoamigdalitis   \n",
       "\n",
       "   sexe grup_edat  index_socioeconomic  casos  poblacio  \n",
       "0  Dona   75 a 79                    3      1       170  \n",
       "1  Home     3 i 4                    3      1       130  \n",
       "2  Dona         0                    3      1        82  \n",
       "3  Home         0                    3      1        62  \n",
       "4  Dona     5 a 9                    4      2       546  "
      ]
     },
     "execution_count": 47,
     "metadata": {},
     "output_type": "execute_result"
    }
   ],
   "source": [
    "df = pd.read_csv('datasets/DadesAtencioPrimaria.csv', sep=';')\n",
    "df['data'] = pd.to_datetime(df['data'], format='%Y-%m-%d').dt.strftime('%d/%m/%Y')\n",
    "\n",
    "df.head()"
   ]
  },
  {
   "cell_type": "code",
   "execution_count": 48,
   "metadata": {},
   "outputs": [
    {
     "data": {
      "text/plain": [
       "grup_edat\n",
       "5 a 9       35815\n",
       "10 a 14     25444\n",
       "15 a 19     24838\n",
       "20 a 24     23921\n",
       "1 i 2       23578\n",
       "40 a 44     22750\n",
       "35 a 39     22696\n",
       "80 o més    22463\n",
       "25 a 29     22324\n",
       "30 a 34     22176\n",
       "45 a 49     22137\n",
       "3 i 4       21077\n",
       "50 a 54     19171\n",
       "55 a 59     17521\n",
       "60 a 64     16315\n",
       "65 a 69     15046\n",
       "70 a 74     13961\n",
       "75 a 79     13905\n",
       "0           12438\n",
       "Name: count, dtype: int64"
      ]
     },
     "execution_count": 48,
     "metadata": {},
     "output_type": "execute_result"
    }
   ],
   "source": [
    "#df.value_counts('casos')\n",
    "df.value_counts('grup_edat')"
   ]
  },
  {
   "cell_type": "code",
   "execution_count": 49,
   "metadata": {},
   "outputs": [
    {
     "name": "stdout",
     "output_type": "stream",
     "text": [
      "01/10/2024\n",
      "31/10/2024\n"
     ]
    },
    {
     "data": {
      "image/png": "[encoded data removed]",
      "text/plain": [
       "<Figure size 1200x600 with 1 Axes>"
      ]
     },
     "metadata": {},
     "output_type": "display_data"
    }
   ],
   "source": [
    "print(df['data'].min())\n",
    "print(df['data'].max())\n",
    "# Convert 'data' column to datetime\n",
    "\n",
    "# Plot time series of the data\n",
    "plt.figure(figsize=(12, 6))\n",
    "plt.plot(df['data'], df['casos'], label='Casos')\n",
    "plt.xlabel('Date')\n",
    "plt.ylabel('Number of Cases')\n",
    "plt.title('Time Series of Cases')\n",
    "plt.legend()\n",
    "plt.show()"
   ]
  },
  {
   "cell_type": "code",
   "execution_count": 50,
   "metadata": {},
   "outputs": [
    {
     "data": {
      "text/plain": [
       "nom_regio\n",
       "Barcelona Metropolitana Nord    110160\n",
       "Barcelona Ciutat                 71682\n",
       "Barcelona Metropolitana Sud      60005\n",
       "Girona                           41077\n",
       "Camp de Tarragona                29731\n",
       "Penedès                          24160\n",
       "Lleida                           23045\n",
       "Catalunya Central                22480\n",
       "Terres de l'Ebre                 11203\n",
       "Alt Pirineu i Aran                4033\n",
       "Name: count, dtype: int64"
      ]
     },
     "execution_count": 50,
     "metadata": {},
     "output_type": "execute_result"
    }
   ],
   "source": [
    "city_regio_mapping = {\n",
    "    'Lleida': 'Lleida',\n",
    "    'Barcelona': 'Barcelona Ciutat',\n",
    "    'Palamós': 'Girona',\n",
    "    'Badalona': 'Metropolitana Nord',\n",
    "    'Falset': 'Terres de l\\'Ebre',\n",
    "}\n",
    "df.value_counts('nom_regio')"
   ]
  }
 ],
 "metadata": {
  "kernelspec": {
   "display_name": "bits",
   "language": "python",
   "name": "python3"
  },
  "language_info": {
   "codemirror_mode": {
    "name": "ipython",
    "version": 3
   },
   "file_extension": ".py",
   "mimetype": "text/x-python",
   "name": "python",
   "nbconvert_exporter": "python",
   "pygments_lexer": "ipython3",
   "version": "3.12.8"
  }
 },
 "nbformat": 4,
 "nbformat_minor": 2
}
